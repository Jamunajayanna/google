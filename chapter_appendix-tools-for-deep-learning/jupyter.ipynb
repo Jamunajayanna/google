{
  "cells": [
    {
      "cell_type": "code",
      "source": [
        "import pandas as pd\n",
        "import numpy as np\n",
        "import matplotlib.pyplot as plt\n",
        "import seaborn as sns\n",
        "from sklearn.preprocessing import StandardScaler"
      ],
      "metadata": {
        "id": "sT4sh7ORNZNP"
      },
      "id": "sT4sh7ORNZNP",
      "execution_count": 7,
      "outputs": []
    },
    {
      "cell_type": "code",
      "source": [
        "import kagglehub\n",
        "import pandas as pd\n",
        "import os\n",
        "\n",
        "# Download latest version\n",
        "path = kagglehub.dataset_download(\"uciml/autompg-dataset\")\n",
        "\n",
        "print(\"Path to dataset files:\", path)\n",
        "\n",
        "# Check if path is a directory and if so, find the CSV file within it\n",
        "if os.path.isdir(path):\n",
        "    for filename in os.listdir(path):\n",
        "        if filename.endswith(\".csv\"):\n",
        "            filepath = os.path.join(path, filename)\n",
        "            df = pd.read_csv(filepath)\n",
        "            break  # Stop after reading the first CSV file\n",
        "    else:\n",
        "        print(\"No CSV file found in the downloaded directory.\")\n",
        "else:\n",
        "    # If path is not a directory, assume it's a file and try to read it\n",
        "    df = pd.read_csv(path)"
      ],
      "metadata": {
        "id": "JiEXdyPwL8vH",
        "outputId": "68877339-0728-45ae-d146-0d7075b7e5a6",
        "colab": {
          "base_uri": "https://localhost:8080/"
        }
      },
      "id": "JiEXdyPwL8vH",
      "execution_count": 2,
      "outputs": [
        {
          "output_type": "stream",
          "name": "stdout",
          "text": [
            "Warning: Looks like you're using an outdated `kagglehub` version (installed: 0.3.6), please consider upgrading to the latest version (0.3.7).\n",
            "Downloading from https://www.kaggle.com/api/v1/datasets/download/uciml/autompg-dataset?dataset_version_number=3...\n"
          ]
        },
        {
          "output_type": "stream",
          "name": "stderr",
          "text": [
            "100%|██████████| 6.31k/6.31k [00:00<00:00, 3.83MB/s]"
          ]
        },
        {
          "output_type": "stream",
          "name": "stdout",
          "text": [
            "Extracting files...\n",
            "Path to dataset files: /root/.cache/kagglehub/datasets/uciml/autompg-dataset/versions/3\n"
          ]
        },
        {
          "output_type": "stream",
          "name": "stderr",
          "text": [
            "\n"
          ]
        }
      ]
    },
    {
      "cell_type": "code",
      "source": [
        "print(df['horsepower'].unique())"
      ],
      "metadata": {
        "id": "Q6sjb5lCMCQK",
        "outputId": "08a27a19-7f3b-45af-cb6f-c577aa3b2ebe",
        "colab": {
          "base_uri": "https://localhost:8080/"
        }
      },
      "id": "Q6sjb5lCMCQK",
      "execution_count": 3,
      "outputs": [
        {
          "output_type": "stream",
          "name": "stdout",
          "text": [
            "['130' '165' '150' '140' '198' '220' '215' '225' '190' '170' '160' '95'\n",
            " '97' '85' '88' '46' '87' '90' '113' '200' '210' '193' '?' '100' '105'\n",
            " '175' '153' '180' '110' '72' '86' '70' '76' '65' '69' '60' '80' '54'\n",
            " '208' '155' '112' '92' '145' '137' '158' '167' '94' '107' '230' '49' '75'\n",
            " '91' '122' '67' '83' '78' '52' '61' '93' '148' '129' '96' '71' '98' '115'\n",
            " '53' '81' '79' '120' '152' '102' '108' '68' '58' '149' '89' '63' '48'\n",
            " '66' '139' '103' '125' '133' '138' '135' '142' '77' '62' '132' '84' '64'\n",
            " '74' '116' '82']\n"
          ]
        }
      ]
    },
    {
      "cell_type": "code",
      "source": [
        "# Replace '?' with NaN\n",
        "df['horsepower'] = df['horsepower'].replace('?', np.nan)\n"
      ],
      "metadata": {
        "id": "e_LI1v2GMHvR"
      },
      "id": "e_LI1v2GMHvR",
      "execution_count": 4,
      "outputs": []
    },
    {
      "cell_type": "code",
      "source": [
        "# Convert horsepower to numeric (since '?' was a string, the column may still be object type)\n",
        "df['horsepower'] = pd.to_numeric(df['horsepower'])\n",
        "\n",
        "# Calculate the mean (ignoring NaN values)\n",
        "mean_hp = df['horsepower'].mean()\n",
        "print(f\"Mean Horsepower: {mean_hp}\")\n"
      ],
      "metadata": {
        "id": "ELg2hIjZMLnu",
        "outputId": "2af61606-4c3e-437d-8170-f3297040a593",
        "colab": {
          "base_uri": "https://localhost:8080/"
        }
      },
      "id": "ELg2hIjZMLnu",
      "execution_count": 5,
      "outputs": [
        {
          "output_type": "stream",
          "name": "stdout",
          "text": [
            "Mean Horsepower: 104.46938775510205\n"
          ]
        }
      ]
    },
    {
      "cell_type": "code",
      "source": [
        "# Fill NaN values with mean horsepower\n",
        "df['horsepower'].fillna(mean_hp, inplace=True)\n",
        "\n",
        "# Verify that there are no more missing values\n",
        "print(df['horsepower'].isnull().sum())  # Should output 0\n"
      ],
      "metadata": {
        "id": "P1G2sYSvMPmC",
        "outputId": "e7bd0297-5efa-4d46-defd-158278bde948",
        "colab": {
          "base_uri": "https://localhost:8080/"
        }
      },
      "id": "P1G2sYSvMPmC",
      "execution_count": 6,
      "outputs": [
        {
          "output_type": "stream",
          "name": "stdout",
          "text": [
            "0\n"
          ]
        },
        {
          "output_type": "stream",
          "name": "stderr",
          "text": [
            "<ipython-input-6-3654a72b3223>:2: FutureWarning: A value is trying to be set on a copy of a DataFrame or Series through chained assignment using an inplace method.\n",
            "The behavior will change in pandas 3.0. This inplace method will never work because the intermediate object on which we are setting values always behaves as a copy.\n",
            "\n",
            "For example, when doing 'df[col].method(value, inplace=True)', try using 'df.method({col: value}, inplace=True)' or df[col] = df[col].method(value) instead, to perform the operation inplace on the original object.\n",
            "\n",
            "\n",
            "  df['horsepower'].fillna(mean_hp, inplace=True)\n"
          ]
        }
      ]
    },
    {
      "cell_type": "code",
      "source": [],
      "metadata": {
        "id": "UreevCTmNDIN"
      },
      "id": "UreevCTmNDIN",
      "execution_count": null,
      "outputs": []
    }
  ],
  "metadata": {
    "kernelspec": {
      "display_name": "Python 3",
      "name": "python3"
    },
    "language_info": {
      "name": "python"
    },
    "required_libs": [],
    "colab": {
      "provenance": []
    }
  },
  "nbformat": 4,
  "nbformat_minor": 5
}